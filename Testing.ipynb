{
 "cells": [
  {
   "cell_type": "code",
   "execution_count": 1,
   "metadata": {},
   "outputs": [],
   "source": [
    "import pandas as pd\n",
    "import numpy as np\n",
    "import matplotlib.pyplot as plt\n",
    "import seaborn as sns\n",
    "import pickle\n",
    "import xgboost as xgb\n",
    "%matplotlib inline"
   ]
  },
  {
   "cell_type": "markdown",
   "metadata": {},
   "source": [
    "## Data preprocesing"
   ]
  },
  {
   "cell_type": "code",
   "execution_count": 2,
   "metadata": {},
   "outputs": [],
   "source": [
    "m = pd.read_csv('./hltv_parser/matches.csv')\n",
    "IEM_matches = m[m['tourney'] == 4901]\n",
    "before_IEM = m[m['tourney'] != 4901]"
   ]
  },
  {
   "cell_type": "code",
   "execution_count": 3,
   "metadata": {},
   "outputs": [
    {
     "name": "stderr",
     "output_type": "stream",
     "text": [
      "/Users/valery_khudziev/anaconda3/lib/python3.7/site-packages/pandas/core/indexing.py:376: SettingWithCopyWarning: \n",
      "A value is trying to be set on a copy of a slice from a DataFrame.\n",
      "Try using .loc[row_indexer,col_indexer] = value instead\n",
      "\n",
      "See the caveats in the documentation: http://pandas.pydata.org/pandas-docs/stable/user_guide/indexing.html#returning-a-view-versus-a-copy\n",
      "  self.obj[key] = _infer_fill_value(value)\n",
      "/Users/valery_khudziev/anaconda3/lib/python3.7/site-packages/pandas/core/indexing.py:494: SettingWithCopyWarning: \n",
      "A value is trying to be set on a copy of a slice from a DataFrame.\n",
      "Try using .loc[row_indexer,col_indexer] = value instead\n",
      "\n",
      "See the caveats in the documentation: http://pandas.pydata.org/pandas-docs/stable/user_guide/indexing.html#returning-a-view-versus-a-copy\n",
      "  self.obj[item] = s\n",
      "/Users/valery_khudziev/Documents/cs-go-match-winner/feature_engineering.py:17: SettingWithCopyWarning: \n",
      "A value is trying to be set on a copy of a slice from a DataFrame.\n",
      "Try using .loc[row_indexer,col_indexer] = value instead\n",
      "\n",
      "See the caveats in the documentation: http://pandas.pydata.org/pandas-docs/stable/user_guide/indexing.html#returning-a-view-versus-a-copy\n",
      "  tr['t1_' + cs_map + '_' + stat] = np.zeros(tr.shape[0])\n",
      "/Users/valery_khudziev/Documents/cs-go-match-winner/feature_engineering.py:18: SettingWithCopyWarning: \n",
      "A value is trying to be set on a copy of a slice from a DataFrame.\n",
      "Try using .loc[row_indexer,col_indexer] = value instead\n",
      "\n",
      "See the caveats in the documentation: http://pandas.pydata.org/pandas-docs/stable/user_guide/indexing.html#returning-a-view-versus-a-copy\n",
      "  tr['t2_' + cs_map + '_' + stat] = np.zeros(tr.shape[0])\n",
      "/Users/valery_khudziev/Documents/cs-go-match-winner/feature_engineering.py:63: SettingWithCopyWarning: \n",
      "A value is trying to be set on a copy of a slice from a DataFrame.\n",
      "Try using .loc[row_indexer,col_indexer] = value instead\n",
      "\n",
      "See the caveats in the documentation: http://pandas.pydata.org/pandas-docs/stable/user_guide/indexing.html#returning-a-view-versus-a-copy\n",
      "  tr['t1_' + cs_map + '_played_percent'] = np.zeros(tr.shape[0])\n",
      "/Users/valery_khudziev/Documents/cs-go-match-winner/feature_engineering.py:64: SettingWithCopyWarning: \n",
      "A value is trying to be set on a copy of a slice from a DataFrame.\n",
      "Try using .loc[row_indexer,col_indexer] = value instead\n",
      "\n",
      "See the caveats in the documentation: http://pandas.pydata.org/pandas-docs/stable/user_guide/indexing.html#returning-a-view-versus-a-copy\n",
      "  tr['t2_' + cs_map + '_played_percent'] = np.zeros(tr.shape[0])\n",
      "/Users/valery_khudziev/Documents/cs-go-match-winner/feature_engineering.py:65: SettingWithCopyWarning: \n",
      "A value is trying to be set on a copy of a slice from a DataFrame.\n",
      "Try using .loc[row_indexer,col_indexer] = value instead\n",
      "\n",
      "See the caveats in the documentation: http://pandas.pydata.org/pandas-docs/stable/user_guide/indexing.html#returning-a-view-versus-a-copy\n",
      "  tr['t1_' + cs_map + '_win_percent'] = np.zeros(tr.shape[0])\n",
      "/Users/valery_khudziev/Documents/cs-go-match-winner/feature_engineering.py:66: SettingWithCopyWarning: \n",
      "A value is trying to be set on a copy of a slice from a DataFrame.\n",
      "Try using .loc[row_indexer,col_indexer] = value instead\n",
      "\n",
      "See the caveats in the documentation: http://pandas.pydata.org/pandas-docs/stable/user_guide/indexing.html#returning-a-view-versus-a-copy\n",
      "  tr['t2_' + cs_map + '_win_percent'] = np.zeros(tr.shape[0])\n"
     ]
    }
   ],
   "source": [
    "from feature_engineering import process_data\n",
    "\n",
    "x, y, lineups_map_info, lineups_elo = process_data(before_IEM)"
   ]
  },
  {
   "cell_type": "markdown",
   "metadata": {},
   "source": [
    "## Bayesian bernoulli"
   ]
  },
  {
   "cell_type": "code",
   "execution_count": 3,
   "metadata": {},
   "outputs": [
    {
     "name": "stderr",
     "output_type": "stream",
     "text": [
      "/Users/valery_khudziev/anaconda3/lib/python3.7/site-packages/distributed/utils.py:133: RuntimeWarning: Couldn't detect a suitable IP address for reaching '8.8.8.8', defaulting to '127.0.0.1': [Errno 51] Network is unreachable\n",
      "  RuntimeWarning,\n"
     ]
    }
   ],
   "source": [
    "from bayesian_bernoulli import BayesianPredictor\n",
    "\n",
    "clf = BayesianPredictor()"
   ]
  },
  {
   "cell_type": "code",
   "execution_count": 4,
   "metadata": {},
   "outputs": [],
   "source": [
    "before_IEM_target = before_IEM.apply(lambda d: 1 if d['t1_score'] > d['t2_score'] else 0, axis=1)"
   ]
  },
  {
   "cell_type": "code",
   "execution_count": null,
   "metadata": {},
   "outputs": [],
   "source": [
    "clf.fit(before_IEM, before_IEM_target)\n",
    "with open('bayesian_4901.pkl', 'wb') as file:\n",
    "    pickle.dump(clf, file)"
   ]
  },
  {
   "cell_type": "markdown",
   "metadata": {},
   "source": [
    "## XGBoost"
   ]
  },
  {
   "cell_type": "code",
   "execution_count": 349,
   "metadata": {},
   "outputs": [],
   "source": [
    "params_xgb = {'max_depth':29,\n",
    "              'objective':'binary:logistic',\n",
    "              'min_child_weight': 1,\n",
    "              'eta'      :0.1,\n",
    "              'subsample':0.8,\n",
    "              'lambda '  :4,\n",
    "              'n_estimators':4000,\n",
    "              'colsample_bytree ':1,\n",
    "              'colsample_bylevel':1\n",
    "              }"
   ]
  },
  {
   "cell_type": "code",
   "execution_count": 4,
   "metadata": {},
   "outputs": [],
   "source": [
    "tmp = x"
   ]
  },
  {
   "cell_type": "code",
   "execution_count": 257,
   "metadata": {},
   "outputs": [
    {
     "data": {
      "text/plain": [
       "(20364, 29)"
      ]
     },
     "execution_count": 257,
     "metadata": {},
     "output_type": "execute_result"
    }
   ],
   "source": [
    "x.shape"
   ]
  },
  {
   "cell_type": "code",
   "execution_count": 14,
   "metadata": {},
   "outputs": [],
   "source": [
    "x = tmp"
   ]
  },
  {
   "cell_type": "code",
   "execution_count": 15,
   "metadata": {},
   "outputs": [],
   "source": [
    "y = before_IEM.apply(lambda d: 1 if d['t1_score'] > d['t2_score'] else 0, axis=1).reset_index().drop(columns=['index'])"
   ]
  },
  {
   "cell_type": "code",
   "execution_count": 16,
   "metadata": {},
   "outputs": [],
   "source": [
    "before_IEM = before_IEM.reset_index()"
   ]
  },
  {
   "cell_type": "code",
   "execution_count": 17,
   "metadata": {},
   "outputs": [],
   "source": [
    "idxs = (before_IEM['map'] != 'Cache') & (before_IEM['map'] != 'Cobblestone') & (before_IEM['map'] != 'Mirage_ce')\\\n",
    "    & (before_IEM['map'] != 'Inferno_se') & (before_IEM['map'] != 'Train_se')\\\n",
    "    & (before_IEM['map'] != 'Nuke_se') & (before_IEM['map'] != 'Season')"
   ]
  },
  {
   "cell_type": "code",
   "execution_count": 18,
   "metadata": {},
   "outputs": [],
   "source": [
    "x = x[idxs]\n",
    "y = y[idxs]"
   ]
  },
  {
   "cell_type": "code",
   "execution_count": 21,
   "metadata": {},
   "outputs": [],
   "source": [
    "def keep_map_stat(tr, maps):\n",
    "    x = tr\n",
    "    x['map'] = maps.reset_index().drop(columns=['index'])\n",
    "    x['t1_win_percent'] = np.zeros(x.shape[0])\n",
    "    x['t1_played_percent'] = np.zeros(x.shape[0])\n",
    "    x['t2_win_percent'] = np.zeros(x.shape[0])\n",
    "    x['t2_played_percent'] = np.zeros(x.shape[0])\n",
    "    for idx in x.index:\n",
    "        x.at[idx, 't1_win_percent'] = x['t1_' + x.loc[idx]['map'] + '_win_percent'].loc[idx]\n",
    "        x.at[idx, 't1_played_percent'] = x['t1_' + x.loc[idx]['map'] + '_played_percent'].loc[idx]\n",
    "        x.at[idx, 't2_win_percent'] = x['t2_' + x.loc[idx]['map'] + '_win_percent'].loc[idx]\n",
    "        x.at[idx, 't2_played_percent'] = x['t2_' + x.loc[idx]['map'] + '_played_percent'].loc[idx]\n",
    "    x = x[['t1_win_percent', 't1_played_percent', 't2_win_percent',\n",
    "           't2_played_percent', 'elo_diff', 't1_elo', 't2_elo']]\n",
    "    return x"
   ]
  },
  {
   "cell_type": "code",
   "execution_count": 352,
   "metadata": {},
   "outputs": [],
   "source": [
    "train_set = xgb.DMatrix(x, y)\n",
    "clf = xgb.train(params_xgb, train_set)"
   ]
  },
  {
   "cell_type": "code",
   "execution_count": 20,
   "metadata": {},
   "outputs": [],
   "source": [
    "import itertools\n",
    "\n",
    "def make_x_pred(clf, x_pred, lineups_map_info, lineups_elo):\n",
    "    cs_maps = ('Dust2', 'Inferno', 'Mirage', 'Nuke', 'Overpass', 'Train', 'Vertigo')\n",
    "    stats = ('times_played', 'wins')\n",
    "    x = pd.DataFrame()\n",
    "    for cs_map, stat in itertools.product(cs_maps, stats):\n",
    "        x['t1_' + cs_map + '_' + stat] = np.zeros(x_pred.shape[0])\n",
    "        x['t2_' + cs_map + '_' + stat] = np.zeros(x_pred.shape[0])\n",
    "    for i in range(x_pred.shape[0]):\n",
    "        for cs_map, stat in itertools.product(cs_maps, stats):\n",
    "            x.at[i, 't1_' + cs_map + '_' + stat] = lineups_map_info[x_pred.iloc[i]['t1_lineup']][cs_map + stat]\n",
    "            x.at[i, 't2_' + cs_map + '_' + stat] = lineups_map_info[x_pred.iloc[i]['t2_lineup']][cs_map + stat]\n",
    "    for cs_map in cs_maps:\n",
    "        x['t1_' + cs_map + '_played_percent'] = np.zeros(x.shape[0])\n",
    "        x['t2_' + cs_map + '_played_percent'] = np.zeros(x.shape[0])\n",
    "        x['t1_' + cs_map + '_win_percent'] = np.zeros(x.shape[0])\n",
    "        x['t2_' + cs_map + '_win_percent'] = np.zeros(x.shape[0])\n",
    "    \n",
    "    x['elo_diff'] = np.zeros(x_pred.shape[0])\n",
    "    x['t1_elo'] = np.zeros(x_pred.shape[0])\n",
    "    x['t2_elo'] = np.zeros(x_pred.shape[0])\n",
    "    for idx in x.index:\n",
    "        s1 = 0\n",
    "        s2 = 0\n",
    "        for cs_map in cs_maps:\n",
    "            s1 += x.loc[idx]['t1_' + cs_map + '_times_played']\n",
    "            s2 += x.loc[idx]['t2_' + cs_map + '_times_played']\n",
    "        for cs_map in cs_maps:\n",
    "            t1_times_played = x.loc[idx]['t1_' + cs_map + '_times_played']\n",
    "            t2_times_played = x.loc[idx]['t2_' + cs_map + '_times_played']\n",
    "            t1_wins = x.loc[idx]['t1_' + cs_map + '_wins']\n",
    "            t2_wins = x.loc[idx]['t2_' + cs_map + '_wins']\n",
    "            x.at[idx, 't1_' + cs_map + '_played_percent'] = t1_times_played / s1 if s1 != 0 else 0\n",
    "            x.at[idx, 't1_' + cs_map + '_win_percent'] = t1_wins / t1_times_played if t1_times_played != 0 else 0\n",
    "            x.at[idx, 't2_' + cs_map + '_played_percent'] = t2_times_played / s2 if s2 != 0 else 0\n",
    "            x.at[idx, 't2_' + cs_map + '_win_percent'] = t2_wins / t2_times_played if t2_times_played != 0 else 0\n",
    "        x.at[idx, 'elo_diff'] = lineups_elo[x_pred.iloc[idx]['t1_lineup']] - lineups_elo[x_pred.iloc[idx]['t2_lineup']]\n",
    "        x.at[idx, 't1_elo'] = lineups_elo[x_pred.iloc[idx]['t1_lineup']]\n",
    "        x.at[idx, 't2_elo'] = lineups_elo[x_pred.iloc[idx]['t2_lineup']]\n",
    "    to_drop = ['t1_' + cs_map + '_' + stat for cs_map, stat in itertools.product(cs_maps, stats)] +\\\n",
    "        ['t2_' + cs_map + '_' + stat for cs_map, stat in itertools.product(cs_maps, stats)]\n",
    "    x = x.drop(columns=to_drop)\n",
    "    return x"
   ]
  },
  {
   "cell_type": "code",
   "execution_count": 354,
   "metadata": {},
   "outputs": [],
   "source": [
    "x_pred = make_x_pred(clf, IEM_matches, lineups_map_info, lineups_elo)"
   ]
  },
  {
   "cell_type": "code",
   "execution_count": 343,
   "metadata": {},
   "outputs": [],
   "source": [
    "y_test = IEM_matches.apply(lambda d: 1 if d['t1_score'] > d['t2_score'] else 0, axis=1)"
   ]
  },
  {
   "cell_type": "code",
   "execution_count": null,
   "metadata": {},
   "outputs": [],
   "source": [
    "test_set = xgb.DMatrix(x_pred)\n",
    "IEM_pred = clf.predict(test_set)"
   ]
  },
  {
   "cell_type": "code",
   "execution_count": 355,
   "metadata": {},
   "outputs": [
    {
     "data": {
      "text/plain": [
       "0.701923076923077"
      ]
     },
     "execution_count": 355,
     "metadata": {},
     "output_type": "execute_result"
    }
   ],
   "source": [
    "from sklearn.metrics import roc_auc_score\n",
    "\n",
    "roc_auc_score(y_test, IEM_pred)"
   ]
  },
  {
   "cell_type": "markdown",
   "metadata": {},
   "source": [
    "## CatBoost"
   ]
  },
  {
   "cell_type": "code",
   "execution_count": 356,
   "metadata": {},
   "outputs": [],
   "source": [
    "x = tmp"
   ]
  },
  {
   "cell_type": "code",
   "execution_count": 357,
   "metadata": {},
   "outputs": [],
   "source": [
    "y = before_IEM.apply(lambda d: 1 if d['t1_score'] > d['t2_score'] else 0, axis=1).reset_index().drop(columns=['index'])"
   ]
  },
  {
   "cell_type": "code",
   "execution_count": 358,
   "metadata": {},
   "outputs": [],
   "source": [
    "idxs = (before_IEM['map'] != 'Cache') & (before_IEM['map'] != 'Cobblestone') & (before_IEM['map'] != 'Mirage_ce')\\\n",
    "    & (before_IEM['map'] != 'Inferno_se') & (before_IEM['map'] != 'Train_se')\\\n",
    "    & (before_IEM['map'] != 'Nuke_se') & (before_IEM['map'] != 'Season')"
   ]
  },
  {
   "cell_type": "code",
   "execution_count": 359,
   "metadata": {},
   "outputs": [],
   "source": [
    "x = x[idxs]\n",
    "y = y[idxs]"
   ]
  },
  {
   "cell_type": "code",
   "execution_count": 22,
   "metadata": {},
   "outputs": [
    {
     "name": "stderr",
     "output_type": "stream",
     "text": [
      "/Users/valery_khudziev/anaconda3/lib/python3.7/site-packages/ipykernel_launcher.py:3: SettingWithCopyWarning: \n",
      "A value is trying to be set on a copy of a slice from a DataFrame.\n",
      "Try using .loc[row_indexer,col_indexer] = value instead\n",
      "\n",
      "See the caveats in the documentation: http://pandas.pydata.org/pandas-docs/stable/user_guide/indexing.html#returning-a-view-versus-a-copy\n",
      "  This is separate from the ipykernel package so we can avoid doing imports until\n",
      "/Users/valery_khudziev/anaconda3/lib/python3.7/site-packages/ipykernel_launcher.py:4: SettingWithCopyWarning: \n",
      "A value is trying to be set on a copy of a slice from a DataFrame.\n",
      "Try using .loc[row_indexer,col_indexer] = value instead\n",
      "\n",
      "See the caveats in the documentation: http://pandas.pydata.org/pandas-docs/stable/user_guide/indexing.html#returning-a-view-versus-a-copy\n",
      "  after removing the cwd from sys.path.\n",
      "/Users/valery_khudziev/anaconda3/lib/python3.7/site-packages/ipykernel_launcher.py:5: SettingWithCopyWarning: \n",
      "A value is trying to be set on a copy of a slice from a DataFrame.\n",
      "Try using .loc[row_indexer,col_indexer] = value instead\n",
      "\n",
      "See the caveats in the documentation: http://pandas.pydata.org/pandas-docs/stable/user_guide/indexing.html#returning-a-view-versus-a-copy\n",
      "  \"\"\"\n",
      "/Users/valery_khudziev/anaconda3/lib/python3.7/site-packages/ipykernel_launcher.py:6: SettingWithCopyWarning: \n",
      "A value is trying to be set on a copy of a slice from a DataFrame.\n",
      "Try using .loc[row_indexer,col_indexer] = value instead\n",
      "\n",
      "See the caveats in the documentation: http://pandas.pydata.org/pandas-docs/stable/user_guide/indexing.html#returning-a-view-versus-a-copy\n",
      "  \n",
      "/Users/valery_khudziev/anaconda3/lib/python3.7/site-packages/ipykernel_launcher.py:7: SettingWithCopyWarning: \n",
      "A value is trying to be set on a copy of a slice from a DataFrame.\n",
      "Try using .loc[row_indexer,col_indexer] = value instead\n",
      "\n",
      "See the caveats in the documentation: http://pandas.pydata.org/pandas-docs/stable/user_guide/indexing.html#returning-a-view-versus-a-copy\n",
      "  import sys\n"
     ]
    }
   ],
   "source": [
    "x = keep_map_stat(x, before_IEM['map'])"
   ]
  },
  {
   "cell_type": "code",
   "execution_count": 23,
   "metadata": {},
   "outputs": [],
   "source": [
    "from catboost import CatBoostClassifier"
   ]
  },
  {
   "cell_type": "code",
   "execution_count": 33,
   "metadata": {},
   "outputs": [],
   "source": [
    "clf = CatBoostClassifier(iterations=500,\n",
    "                        learning_rate=0.1,\n",
    "                        depth=15,\n",
    "                        l2_leaf_reg=4,\n",
    "                        loss_function='Logloss',\n",
    "                        )"
   ]
  },
  {
   "cell_type": "code",
   "execution_count": null,
   "metadata": {},
   "outputs": [
    {
     "name": "stdout",
     "output_type": "stream",
     "text": [
      "0:\tlearn: 0.6821544\ttotal: 3.26s\tremaining: 27m 5s\n",
      "1:\tlearn: 0.6713019\ttotal: 7.18s\tremaining: 29m 47s\n",
      "2:\tlearn: 0.6622381\ttotal: 10.8s\tremaining: 29m 52s\n",
      "3:\tlearn: 0.6543562\ttotal: 14.8s\tremaining: 30m 36s\n",
      "4:\tlearn: 0.6465598\ttotal: 22.6s\tremaining: 37m 19s\n",
      "5:\tlearn: 0.6398712\ttotal: 25.6s\tremaining: 35m 5s\n",
      "6:\tlearn: 0.6334996\ttotal: 28.4s\tremaining: 33m 23s\n",
      "7:\tlearn: 0.6286831\ttotal: 31.2s\tremaining: 31m 58s\n",
      "8:\tlearn: 0.6227236\ttotal: 33.9s\tremaining: 30m 50s\n",
      "9:\tlearn: 0.6179217\ttotal: 36.6s\tremaining: 29m 55s\n",
      "10:\tlearn: 0.6133928\ttotal: 39.3s\tremaining: 29m 5s\n",
      "11:\tlearn: 0.6091392\ttotal: 44.9s\tremaining: 30m 26s\n",
      "12:\tlearn: 0.6054732\ttotal: 48.4s\tremaining: 30m 14s\n",
      "13:\tlearn: 0.6018832\ttotal: 52.4s\tremaining: 30m 17s\n",
      "14:\tlearn: 0.5977166\ttotal: 56.2s\tremaining: 30m 18s\n",
      "15:\tlearn: 0.5940192\ttotal: 59.5s\tremaining: 30m\n",
      "16:\tlearn: 0.5912162\ttotal: 1m 2s\tremaining: 29m 44s\n",
      "17:\tlearn: 0.5884763\ttotal: 1m 5s\tremaining: 29m 20s\n",
      "18:\tlearn: 0.5856726\ttotal: 1m 8s\tremaining: 29m\n",
      "19:\tlearn: 0.5826299\ttotal: 1m 11s\tremaining: 28m 39s\n",
      "20:\tlearn: 0.5797879\ttotal: 1m 14s\tremaining: 28m 23s\n",
      "21:\tlearn: 0.5772341\ttotal: 1m 17s\tremaining: 28m 6s\n",
      "22:\tlearn: 0.5747463\ttotal: 1m 20s\tremaining: 27m 56s\n",
      "23:\tlearn: 0.5718221\ttotal: 1m 23s\tremaining: 27m 45s\n",
      "24:\tlearn: 0.5700374\ttotal: 1m 27s\tremaining: 27m 34s\n",
      "25:\tlearn: 0.5682649\ttotal: 1m 30s\tremaining: 27m 21s\n",
      "26:\tlearn: 0.5658504\ttotal: 1m 32s\tremaining: 27m 7s\n",
      "27:\tlearn: 0.5633414\ttotal: 1m 35s\tremaining: 26m 54s\n",
      "28:\tlearn: 0.5614239\ttotal: 1m 39s\tremaining: 26m 53s\n",
      "29:\tlearn: 0.5597103\ttotal: 1m 42s\tremaining: 26m 50s\n",
      "30:\tlearn: 0.5571071\ttotal: 1m 46s\tremaining: 26m 46s\n",
      "31:\tlearn: 0.5552706\ttotal: 1m 49s\tremaining: 26m 39s\n",
      "32:\tlearn: 0.5532007\ttotal: 1m 52s\tremaining: 26m 33s\n",
      "33:\tlearn: 0.5508236\ttotal: 1m 56s\tremaining: 26m 32s\n",
      "34:\tlearn: 0.5488128\ttotal: 1m 59s\tremaining: 26m 28s\n",
      "35:\tlearn: 0.5466928\ttotal: 2m 3s\tremaining: 26m 28s\n",
      "36:\tlearn: 0.5446003\ttotal: 2m 6s\tremaining: 26m 29s\n",
      "37:\tlearn: 0.5427414\ttotal: 2m 10s\tremaining: 26m 30s\n",
      "38:\tlearn: 0.5412424\ttotal: 2m 14s\tremaining: 26m 29s\n",
      "39:\tlearn: 0.5398550\ttotal: 2m 17s\tremaining: 26m 26s\n",
      "40:\tlearn: 0.5379463\ttotal: 2m 21s\tremaining: 26m 19s\n",
      "41:\tlearn: 0.5365450\ttotal: 2m 24s\tremaining: 26m 12s\n",
      "42:\tlearn: 0.5350655\ttotal: 2m 27s\tremaining: 26m 11s\n",
      "43:\tlearn: 0.5329532\ttotal: 2m 31s\tremaining: 26m 12s\n",
      "44:\tlearn: 0.5310641\ttotal: 2m 35s\tremaining: 26m 12s\n",
      "45:\tlearn: 0.5289635\ttotal: 2m 38s\tremaining: 26m 4s\n",
      "46:\tlearn: 0.5272891\ttotal: 2m 41s\tremaining: 25m 56s\n",
      "47:\tlearn: 0.5257614\ttotal: 2m 44s\tremaining: 25m 48s\n",
      "48:\tlearn: 0.5240064\ttotal: 2m 48s\tremaining: 25m 53s\n",
      "49:\tlearn: 0.5221880\ttotal: 2m 52s\tremaining: 25m 48s\n",
      "50:\tlearn: 0.5211035\ttotal: 2m 55s\tremaining: 25m 45s\n",
      "51:\tlearn: 0.5195084\ttotal: 2m 59s\tremaining: 25m 44s\n",
      "52:\tlearn: 0.5181793\ttotal: 3m 2s\tremaining: 25m 38s\n",
      "53:\tlearn: 0.5164589\ttotal: 3m 5s\tremaining: 25m 33s\n",
      "54:\tlearn: 0.5154205\ttotal: 3m 8s\tremaining: 25m 25s\n",
      "55:\tlearn: 0.5137794\ttotal: 3m 11s\tremaining: 25m 20s\n",
      "56:\tlearn: 0.5123179\ttotal: 3m 16s\tremaining: 25m 27s\n",
      "57:\tlearn: 0.5109394\ttotal: 3m 20s\tremaining: 25m 26s\n",
      "58:\tlearn: 0.5095633\ttotal: 3m 23s\tremaining: 25m 22s\n",
      "59:\tlearn: 0.5082044\ttotal: 3m 26s\tremaining: 25m 17s\n",
      "60:\tlearn: 0.5071261\ttotal: 3m 29s\tremaining: 25m 9s\n",
      "61:\tlearn: 0.5052760\ttotal: 3m 32s\tremaining: 25m 3s\n",
      "62:\tlearn: 0.5038031\ttotal: 3m 35s\tremaining: 24m 56s\n",
      "63:\tlearn: 0.5025347\ttotal: 3m 38s\tremaining: 24m 50s\n",
      "64:\tlearn: 0.5012892\ttotal: 3m 41s\tremaining: 24m 44s\n",
      "65:\tlearn: 0.4994465\ttotal: 3m 45s\tremaining: 24m 41s\n",
      "66:\tlearn: 0.4978976\ttotal: 3m 49s\tremaining: 24m 40s\n",
      "67:\tlearn: 0.4968983\ttotal: 3m 53s\tremaining: 24m 42s\n",
      "68:\tlearn: 0.4951451\ttotal: 3m 59s\tremaining: 24m 57s\n",
      "69:\tlearn: 0.4936561\ttotal: 4m 7s\tremaining: 25m 18s\n",
      "70:\tlearn: 0.4922099\ttotal: 4m 13s\tremaining: 25m 29s\n",
      "71:\tlearn: 0.4912491\ttotal: 4m 16s\tremaining: 25m 24s\n",
      "72:\tlearn: 0.4901238\ttotal: 4m 19s\tremaining: 25m 19s\n",
      "73:\tlearn: 0.4886596\ttotal: 4m 23s\tremaining: 25m 17s\n",
      "74:\tlearn: 0.4871306\ttotal: 4m 27s\tremaining: 25m 13s\n",
      "75:\tlearn: 0.4854306\ttotal: 4m 30s\tremaining: 25m 7s\n",
      "76:\tlearn: 0.4840066\ttotal: 4m 33s\tremaining: 25m 1s\n",
      "77:\tlearn: 0.4823891\ttotal: 4m 36s\tremaining: 24m 56s\n",
      "78:\tlearn: 0.4813226\ttotal: 4m 39s\tremaining: 24m 50s\n",
      "79:\tlearn: 0.4800653\ttotal: 4m 43s\tremaining: 24m 48s\n",
      "80:\tlearn: 0.4792920\ttotal: 4m 46s\tremaining: 24m 41s\n",
      "81:\tlearn: 0.4780426\ttotal: 4m 49s\tremaining: 24m 37s\n",
      "82:\tlearn: 0.4764660\ttotal: 4m 53s\tremaining: 24m 35s\n",
      "83:\tlearn: 0.4754413\ttotal: 4m 57s\tremaining: 24m 33s\n",
      "84:\tlearn: 0.4741344\ttotal: 5m\tremaining: 24m 27s\n",
      "85:\tlearn: 0.4730211\ttotal: 5m 3s\tremaining: 24m 21s\n",
      "86:\tlearn: 0.4719588\ttotal: 5m 6s\tremaining: 24m 14s\n",
      "87:\tlearn: 0.4705516\ttotal: 5m 9s\tremaining: 24m 9s\n",
      "88:\tlearn: 0.4694988\ttotal: 5m 13s\tremaining: 24m 8s\n",
      "89:\tlearn: 0.4681705\ttotal: 5m 17s\tremaining: 24m 4s\n",
      "90:\tlearn: 0.4668378\ttotal: 5m 20s\tremaining: 23m 59s\n",
      "91:\tlearn: 0.4658064\ttotal: 5m 23s\tremaining: 23m 53s\n",
      "92:\tlearn: 0.4646426\ttotal: 5m 26s\tremaining: 23m 47s\n",
      "93:\tlearn: 0.4635414\ttotal: 5m 28s\tremaining: 23m 40s\n",
      "94:\tlearn: 0.4623659\ttotal: 5m 31s\tremaining: 23m 34s\n",
      "95:\tlearn: 0.4611845\ttotal: 5m 34s\tremaining: 23m 29s\n",
      "96:\tlearn: 0.4600873\ttotal: 5m 37s\tremaining: 23m 23s\n",
      "97:\tlearn: 0.4591471\ttotal: 5m 40s\tremaining: 23m 17s\n",
      "98:\tlearn: 0.4583030\ttotal: 5m 44s\tremaining: 23m 14s\n",
      "99:\tlearn: 0.4572363\ttotal: 5m 47s\tremaining: 23m 8s\n",
      "100:\tlearn: 0.4561758\ttotal: 5m 50s\tremaining: 23m 3s\n",
      "101:\tlearn: 0.4550500\ttotal: 5m 53s\tremaining: 23m\n",
      "102:\tlearn: 0.4543515\ttotal: 5m 57s\tremaining: 22m 59s\n",
      "103:\tlearn: 0.4535764\ttotal: 6m 1s\tremaining: 22m 56s\n",
      "104:\tlearn: 0.4527813\ttotal: 6m 4s\tremaining: 22m 52s\n",
      "105:\tlearn: 0.4518253\ttotal: 6m 8s\tremaining: 22m 49s\n",
      "106:\tlearn: 0.4506895\ttotal: 6m 12s\tremaining: 22m 48s\n",
      "107:\tlearn: 0.4498564\ttotal: 6m 15s\tremaining: 22m 42s\n",
      "108:\tlearn: 0.4491722\ttotal: 6m 18s\tremaining: 22m 39s\n",
      "109:\tlearn: 0.4483146\ttotal: 6m 24s\tremaining: 22m 43s\n",
      "110:\tlearn: 0.4472810\ttotal: 6m 28s\tremaining: 22m 40s\n",
      "111:\tlearn: 0.4463024\ttotal: 6m 31s\tremaining: 22m 36s\n",
      "112:\tlearn: 0.4447714\ttotal: 6m 35s\tremaining: 22m 36s\n",
      "113:\tlearn: 0.4440549\ttotal: 6m 39s\tremaining: 22m 31s\n",
      "114:\tlearn: 0.4430960\ttotal: 6m 42s\tremaining: 22m 28s\n",
      "115:\tlearn: 0.4420827\ttotal: 6m 46s\tremaining: 22m 26s\n",
      "116:\tlearn: 0.4408978\ttotal: 6m 50s\tremaining: 22m 23s\n",
      "117:\tlearn: 0.4397869\ttotal: 6m 53s\tremaining: 22m 19s\n",
      "118:\tlearn: 0.4390034\ttotal: 6m 56s\tremaining: 22m 14s\n",
      "119:\tlearn: 0.4379567\ttotal: 6m 59s\tremaining: 22m 9s\n",
      "120:\tlearn: 0.4369241\ttotal: 7m 3s\tremaining: 22m 5s\n",
      "121:\tlearn: 0.4360314\ttotal: 7m 6s\tremaining: 22m\n",
      "122:\tlearn: 0.4350469\ttotal: 7m 9s\tremaining: 21m 55s\n",
      "123:\tlearn: 0.4342638\ttotal: 7m 12s\tremaining: 21m 51s\n",
      "124:\tlearn: 0.4334197\ttotal: 7m 15s\tremaining: 21m 46s\n",
      "125:\tlearn: 0.4328557\ttotal: 7m 18s\tremaining: 21m 41s\n",
      "126:\tlearn: 0.4322319\ttotal: 7m 21s\tremaining: 21m 37s\n",
      "127:\tlearn: 0.4315849\ttotal: 7m 24s\tremaining: 21m 33s\n",
      "128:\tlearn: 0.4307974\ttotal: 7m 28s\tremaining: 21m 29s\n",
      "129:\tlearn: 0.4299297\ttotal: 7m 31s\tremaining: 21m 24s\n",
      "130:\tlearn: 0.4291406\ttotal: 7m 34s\tremaining: 21m 20s\n",
      "131:\tlearn: 0.4281550\ttotal: 7m 37s\tremaining: 21m 16s\n",
      "132:\tlearn: 0.4274011\ttotal: 7m 40s\tremaining: 21m 11s\n",
      "133:\tlearn: 0.4264310\ttotal: 7m 43s\tremaining: 21m 7s\n",
      "134:\tlearn: 0.4256083\ttotal: 7m 47s\tremaining: 21m 3s\n",
      "135:\tlearn: 0.4248325\ttotal: 7m 50s\tremaining: 20m 59s\n",
      "136:\tlearn: 0.4240511\ttotal: 7m 53s\tremaining: 20m 55s\n",
      "137:\tlearn: 0.4232950\ttotal: 7m 57s\tremaining: 20m 51s\n",
      "138:\tlearn: 0.4222974\ttotal: 8m\tremaining: 20m 47s\n",
      "139:\tlearn: 0.4213216\ttotal: 8m 3s\tremaining: 20m 43s\n",
      "140:\tlearn: 0.4202355\ttotal: 8m 6s\tremaining: 20m 39s\n",
      "141:\tlearn: 0.4193190\ttotal: 8m 9s\tremaining: 20m 34s\n",
      "142:\tlearn: 0.4187740\ttotal: 8m 13s\tremaining: 20m 30s\n",
      "143:\tlearn: 0.4181732\ttotal: 8m 16s\tremaining: 20m 26s\n",
      "144:\tlearn: 0.4171678\ttotal: 8m 19s\tremaining: 20m 21s\n",
      "145:\tlearn: 0.4163769\ttotal: 8m 21s\tremaining: 20m 16s\n",
      "146:\tlearn: 0.4152108\ttotal: 8m 24s\tremaining: 20m 12s\n",
      "147:\tlearn: 0.4143933\ttotal: 8m 28s\tremaining: 20m 9s\n",
      "148:\tlearn: 0.4137795\ttotal: 8m 31s\tremaining: 20m 6s\n",
      "149:\tlearn: 0.4130623\ttotal: 8m 34s\tremaining: 20m 1s\n",
      "150:\tlearn: 0.4122536\ttotal: 8m 37s\tremaining: 19m 57s\n",
      "151:\tlearn: 0.4113435\ttotal: 8m 41s\tremaining: 19m 53s\n",
      "152:\tlearn: 0.4106171\ttotal: 8m 44s\tremaining: 19m 49s\n"
     ]
    },
    {
     "name": "stdout",
     "output_type": "stream",
     "text": [
      "153:\tlearn: 0.4096135\ttotal: 8m 47s\tremaining: 19m 46s\n",
      "154:\tlearn: 0.4088576\ttotal: 8m 51s\tremaining: 19m 42s\n",
      "155:\tlearn: 0.4079369\ttotal: 8m 54s\tremaining: 19m 38s\n",
      "156:\tlearn: 0.4068173\ttotal: 8m 58s\tremaining: 19m 36s\n",
      "157:\tlearn: 0.4058774\ttotal: 9m 3s\tremaining: 19m 36s\n",
      "158:\tlearn: 0.4047492\ttotal: 9m 6s\tremaining: 19m 33s\n",
      "159:\tlearn: 0.4040671\ttotal: 9m 9s\tremaining: 19m 28s\n",
      "160:\tlearn: 0.4033831\ttotal: 9m 12s\tremaining: 19m 24s\n",
      "161:\tlearn: 0.4024395\ttotal: 9m 17s\tremaining: 19m 23s\n",
      "162:\tlearn: 0.4017190\ttotal: 9m 21s\tremaining: 19m 20s\n",
      "163:\tlearn: 0.4009882\ttotal: 9m 25s\tremaining: 19m 18s\n",
      "164:\tlearn: 0.4002113\ttotal: 9m 28s\tremaining: 19m 14s\n",
      "165:\tlearn: 0.3993692\ttotal: 9m 32s\tremaining: 19m 11s\n",
      "166:\tlearn: 0.3987329\ttotal: 9m 35s\tremaining: 19m 8s\n",
      "167:\tlearn: 0.3982343\ttotal: 9m 39s\tremaining: 19m 4s\n",
      "168:\tlearn: 0.3975074\ttotal: 9m 42s\tremaining: 18m 59s\n",
      "169:\tlearn: 0.3969138\ttotal: 9m 45s\tremaining: 18m 56s\n",
      "170:\tlearn: 0.3962452\ttotal: 9m 48s\tremaining: 18m 52s\n",
      "171:\tlearn: 0.3951858\ttotal: 9m 51s\tremaining: 18m 47s\n",
      "172:\tlearn: 0.3944254\ttotal: 9m 54s\tremaining: 18m 43s\n",
      "173:\tlearn: 0.3934718\ttotal: 9m 57s\tremaining: 18m 39s\n",
      "174:\tlearn: 0.3926225\ttotal: 10m\tremaining: 18m 35s\n",
      "175:\tlearn: 0.3921841\ttotal: 10m 3s\tremaining: 18m 30s\n",
      "176:\tlearn: 0.3915187\ttotal: 10m 6s\tremaining: 18m 26s\n",
      "177:\tlearn: 0.3907673\ttotal: 10m 9s\tremaining: 18m 22s\n",
      "178:\tlearn: 0.3899868\ttotal: 10m 12s\tremaining: 18m 18s\n",
      "179:\tlearn: 0.3892234\ttotal: 10m 15s\tremaining: 18m 13s\n",
      "180:\tlearn: 0.3884004\ttotal: 10m 18s\tremaining: 18m 9s\n",
      "181:\tlearn: 0.3875664\ttotal: 10m 20s\tremaining: 18m 4s\n",
      "182:\tlearn: 0.3867920\ttotal: 10m 23s\tremaining: 18m\n",
      "183:\tlearn: 0.3862171\ttotal: 10m 26s\tremaining: 17m 56s\n",
      "184:\tlearn: 0.3855365\ttotal: 10m 31s\tremaining: 17m 54s\n",
      "185:\tlearn: 0.3846207\ttotal: 10m 34s\tremaining: 17m 51s\n",
      "186:\tlearn: 0.3838182\ttotal: 10m 38s\tremaining: 17m 48s\n",
      "187:\tlearn: 0.3833196\ttotal: 10m 42s\tremaining: 17m 46s\n",
      "188:\tlearn: 0.3826138\ttotal: 10m 45s\tremaining: 17m 42s\n",
      "189:\tlearn: 0.3819435\ttotal: 10m 49s\tremaining: 17m 39s\n",
      "190:\tlearn: 0.3813817\ttotal: 10m 52s\tremaining: 17m 35s\n",
      "191:\tlearn: 0.3804608\ttotal: 10m 55s\tremaining: 17m 31s\n",
      "192:\tlearn: 0.3796864\ttotal: 10m 58s\tremaining: 17m 27s\n",
      "193:\tlearn: 0.3790107\ttotal: 11m 1s\tremaining: 17m 22s\n",
      "194:\tlearn: 0.3779866\ttotal: 11m 4s\tremaining: 17m 18s\n",
      "195:\tlearn: 0.3772237\ttotal: 11m 8s\tremaining: 17m 16s\n",
      "196:\tlearn: 0.3766809\ttotal: 11m 13s\tremaining: 17m 15s\n",
      "197:\tlearn: 0.3758896\ttotal: 11m 16s\tremaining: 17m 11s\n",
      "198:\tlearn: 0.3753199\ttotal: 11m 18s\tremaining: 17m 6s\n",
      "199:\tlearn: 0.3745790\ttotal: 11m 23s\tremaining: 17m 5s\n",
      "200:\tlearn: 0.3737989\ttotal: 11m 26s\tremaining: 17m 1s\n",
      "201:\tlearn: 0.3730155\ttotal: 11m 29s\tremaining: 16m 57s\n",
      "202:\tlearn: 0.3725410\ttotal: 11m 33s\tremaining: 16m 54s\n",
      "203:\tlearn: 0.3719662\ttotal: 11m 37s\tremaining: 16m 51s\n",
      "204:\tlearn: 0.3710402\ttotal: 11m 40s\tremaining: 16m 48s\n",
      "205:\tlearn: 0.3704975\ttotal: 11m 44s\tremaining: 16m 45s\n",
      "206:\tlearn: 0.3698330\ttotal: 11m 48s\tremaining: 16m 43s\n",
      "207:\tlearn: 0.3691981\ttotal: 11m 52s\tremaining: 16m 40s\n",
      "208:\tlearn: 0.3683820\ttotal: 11m 56s\tremaining: 16m 37s\n",
      "209:\tlearn: 0.3678040\ttotal: 11m 59s\tremaining: 16m 33s\n",
      "210:\tlearn: 0.3670609\ttotal: 12m 3s\tremaining: 16m 30s\n",
      "211:\tlearn: 0.3664936\ttotal: 12m 7s\tremaining: 16m 27s\n",
      "212:\tlearn: 0.3660584\ttotal: 12m 11s\tremaining: 16m 25s\n",
      "213:\tlearn: 0.3652475\ttotal: 12m 15s\tremaining: 16m 22s\n",
      "214:\tlearn: 0.3647768\ttotal: 12m 19s\tremaining: 16m 20s\n",
      "215:\tlearn: 0.3642908\ttotal: 12m 22s\tremaining: 16m 16s\n",
      "216:\tlearn: 0.3637227\ttotal: 12m 25s\tremaining: 16m 11s\n",
      "217:\tlearn: 0.3629929\ttotal: 12m 28s\tremaining: 16m 7s\n"
     ]
    }
   ],
   "source": [
    "clf.fit(x, y)"
   ]
  },
  {
   "cell_type": "code",
   "execution_count": 27,
   "metadata": {},
   "outputs": [],
   "source": [
    "x_pred = make_x_pred(clf, IEM_matches, lineups_map_info, lineups_elo)"
   ]
  },
  {
   "cell_type": "code",
   "execution_count": 28,
   "metadata": {},
   "outputs": [],
   "source": [
    "x_pred = keep_map_stat(x_pred, IEM_matches['map'])"
   ]
  },
  {
   "cell_type": "code",
   "execution_count": 29,
   "metadata": {},
   "outputs": [],
   "source": [
    "IEM_pred = clf.predict(x_pred)"
   ]
  },
  {
   "cell_type": "code",
   "execution_count": 31,
   "metadata": {},
   "outputs": [],
   "source": [
    "y_test = IEM_matches.apply(lambda d: 1 if d['t1_score'] > d['t2_score'] else 0, axis=1)"
   ]
  },
  {
   "cell_type": "code",
   "execution_count": 32,
   "metadata": {},
   "outputs": [
    {
     "data": {
      "text/plain": [
       "0.596153846153846"
      ]
     },
     "execution_count": 32,
     "metadata": {},
     "output_type": "execute_result"
    }
   ],
   "source": [
    "from sklearn.metrics import roc_auc_score\n",
    "\n",
    "roc_auc_score(y_test, IEM_pred)"
   ]
  }
 ],
 "metadata": {
  "kernelspec": {
   "display_name": "Python 3",
   "language": "python",
   "name": "python3"
  },
  "language_info": {
   "codemirror_mode": {
    "name": "ipython",
    "version": 3
   },
   "file_extension": ".py",
   "mimetype": "text/x-python",
   "name": "python",
   "nbconvert_exporter": "python",
   "pygments_lexer": "ipython3",
   "version": "3.7.4"
  }
 },
 "nbformat": 4,
 "nbformat_minor": 2
}
